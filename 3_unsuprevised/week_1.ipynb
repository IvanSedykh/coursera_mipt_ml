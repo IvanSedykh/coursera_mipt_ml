{
  "nbformat": 4,
  "nbformat_minor": 0,
  "metadata": {
    "colab": {
      "name": "week_1.ipynb",
      "provenance": []
    },
    "kernelspec": {
      "name": "python3",
      "display_name": "Python 3"
    }
  },
  "cells": [
    {
      "cell_type": "code",
      "metadata": {
        "id": "5uEmSeSK52Z9",
        "colab_type": "code",
        "colab": {
          "base_uri": "https://localhost:8080/",
          "height": 204
        },
        "outputId": "655a711c-6354-47d0-8f5b-26895e09930a"
      },
      "source": [
        "!wget https://ia803009.us.archive.org/10/items/201309_foursquare_dataset_umn/fsq.zip"
      ],
      "execution_count": 1,
      "outputs": [
        {
          "output_type": "stream",
          "text": [
            "--2020-04-05 07:05:23--  https://ia803009.us.archive.org/10/items/201309_foursquare_dataset_umn/fsq.zip\n",
            "Resolving ia803009.us.archive.org (ia803009.us.archive.org)... 207.241.233.29\n",
            "Connecting to ia803009.us.archive.org (ia803009.us.archive.org)|207.241.233.29|:443... connected.\n",
            "HTTP request sent, awaiting response... 200 OK\n",
            "Length: 160737760 (153M) [application/zip]\n",
            "Saving to: ‘fsq.zip’\n",
            "\n",
            "fsq.zip             100%[===================>] 153.29M   367KB/s    in 5m 14s  \n",
            "\n",
            "2020-04-05 07:10:37 (500 KB/s) - ‘fsq.zip’ saved [160737760/160737760]\n",
            "\n"
          ],
          "name": "stdout"
        }
      ]
    },
    {
      "cell_type": "code",
      "metadata": {
        "id": "XpketuMg59Oa",
        "colab_type": "code",
        "colab": {
          "base_uri": "https://localhost:8080/",
          "height": 221
        },
        "outputId": "ee967e8b-c4b9-484c-e9b8-d49695e7aa09"
      },
      "source": [
        "!unzip fsq.zip"
      ],
      "execution_count": 2,
      "outputs": [
        {
          "output_type": "stream",
          "text": [
            "Archive:  fsq.zip\n",
            "   creating: umn_foursquare_datasets/\n",
            "  inflating: umn_foursquare_datasets/.DS_Store  \n",
            "   creating: __MACOSX/\n",
            "   creating: __MACOSX/umn_foursquare_datasets/\n",
            "  inflating: __MACOSX/umn_foursquare_datasets/._.DS_Store  \n",
            "  inflating: umn_foursquare_datasets/checkins.dat  \n",
            "  inflating: umn_foursquare_datasets/ratings.dat  \n",
            "  inflating: __MACOSX/umn_foursquare_datasets/._ratings.dat  \n",
            "  inflating: umn_foursquare_datasets/socialgraph.dat  \n",
            "  inflating: umn_foursquare_datasets/users.dat  \n",
            "  inflating: umn_foursquare_datasets/venues.dat  \n"
          ],
          "name": "stdout"
        }
      ]
    },
    {
      "cell_type": "code",
      "metadata": {
        "id": "yEXxSW0Q8Fwq",
        "colab_type": "code",
        "colab": {}
      },
      "source": [
        "import pandas as pd\n",
        "import numpy as np"
      ],
      "execution_count": 0,
      "outputs": []
    },
    {
      "cell_type": "code",
      "metadata": {
        "id": "_2NS-1nS8TDI",
        "colab_type": "code",
        "colab": {
          "base_uri": "https://localhost:8080/",
          "height": 71
        },
        "outputId": "2ddd660c-0b18-4e7f-a9a2-6b51d12a7c7f"
      },
      "source": [
        "data = pd.read_csv('./umn_foursquare_datasets/checkins.dat', sep='|',skipinitialspace = True)"
      ],
      "execution_count": 4,
      "outputs": [
        {
          "output_type": "stream",
          "text": [
            "/usr/local/lib/python3.6/dist-packages/IPython/core/interactiveshell.py:2718: DtypeWarning: Columns (0) have mixed types.Specify dtype option on import or set low_memory=False.\n",
            "  interactivity=interactivity, compiler=compiler, result=result)\n"
          ],
          "name": "stderr"
        }
      ]
    },
    {
      "cell_type": "code",
      "metadata": {
        "id": "Eeb6Be5X8f6V",
        "colab_type": "code",
        "colab": {
          "base_uri": "https://localhost:8080/",
          "height": 204
        },
        "outputId": "0e32c8d9-3554-4f15-b2e9-dd431cd9d7ca"
      },
      "source": [
        "data.columns = [name.strip() for name in data.columns]\n",
        "data.dropna(inplace=True)\n",
        "data.head()"
      ],
      "execution_count": 5,
      "outputs": [
        {
          "output_type": "execute_result",
          "data": {
            "text/html": [
              "<div>\n",
              "<style scoped>\n",
              "    .dataframe tbody tr th:only-of-type {\n",
              "        vertical-align: middle;\n",
              "    }\n",
              "\n",
              "    .dataframe tbody tr th {\n",
              "        vertical-align: top;\n",
              "    }\n",
              "\n",
              "    .dataframe thead th {\n",
              "        text-align: right;\n",
              "    }\n",
              "</style>\n",
              "<table border=\"1\" class=\"dataframe\">\n",
              "  <thead>\n",
              "    <tr style=\"text-align: right;\">\n",
              "      <th></th>\n",
              "      <th>id</th>\n",
              "      <th>user_id</th>\n",
              "      <th>venue_id</th>\n",
              "      <th>latitude</th>\n",
              "      <th>longitude</th>\n",
              "      <th>created_at</th>\n",
              "    </tr>\n",
              "  </thead>\n",
              "  <tbody>\n",
              "    <tr>\n",
              "      <th>2</th>\n",
              "      <td>984222</td>\n",
              "      <td>15824.0</td>\n",
              "      <td>5222.0</td>\n",
              "      <td>38.895112</td>\n",
              "      <td>-77.036366</td>\n",
              "      <td>2012-04-21 17:43:47</td>\n",
              "    </tr>\n",
              "    <tr>\n",
              "      <th>4</th>\n",
              "      <td>984234</td>\n",
              "      <td>44652.0</td>\n",
              "      <td>5222.0</td>\n",
              "      <td>33.800745</td>\n",
              "      <td>-84.410520</td>\n",
              "      <td>2012-04-21 17:43:43</td>\n",
              "    </tr>\n",
              "    <tr>\n",
              "      <th>8</th>\n",
              "      <td>984291</td>\n",
              "      <td>105054.0</td>\n",
              "      <td>5222.0</td>\n",
              "      <td>45.523452</td>\n",
              "      <td>-122.676207</td>\n",
              "      <td>2012-04-21 17:39:22</td>\n",
              "    </tr>\n",
              "    <tr>\n",
              "      <th>10</th>\n",
              "      <td>984318</td>\n",
              "      <td>2146539.0</td>\n",
              "      <td>5222.0</td>\n",
              "      <td>40.764462</td>\n",
              "      <td>-111.904565</td>\n",
              "      <td>2012-04-21 17:35:46</td>\n",
              "    </tr>\n",
              "    <tr>\n",
              "      <th>11</th>\n",
              "      <td>984232</td>\n",
              "      <td>93870.0</td>\n",
              "      <td>380645.0</td>\n",
              "      <td>33.448377</td>\n",
              "      <td>-112.074037</td>\n",
              "      <td>2012-04-21 17:38:18</td>\n",
              "    </tr>\n",
              "  </tbody>\n",
              "</table>\n",
              "</div>"
            ],
            "text/plain": [
              "         id    user_id  venue_id   latitude   longitude           created_at\n",
              "2   984222     15824.0    5222.0  38.895112  -77.036366  2012-04-21 17:43:47\n",
              "4   984234     44652.0    5222.0  33.800745  -84.410520  2012-04-21 17:43:43\n",
              "8   984291    105054.0    5222.0  45.523452 -122.676207  2012-04-21 17:39:22\n",
              "10  984318   2146539.0    5222.0  40.764462 -111.904565  2012-04-21 17:35:46\n",
              "11  984232     93870.0  380645.0  33.448377 -112.074037  2012-04-21 17:38:18"
            ]
          },
          "metadata": {
            "tags": []
          },
          "execution_count": 5
        }
      ]
    },
    {
      "cell_type": "code",
      "metadata": {
        "id": "pHL6nwps9wT1",
        "colab_type": "code",
        "colab": {
          "base_uri": "https://localhost:8080/",
          "height": 34
        },
        "outputId": "5cb37423-f6d0-41b6-d2a9-136a4d4a9017"
      },
      "source": [
        "data.shape"
      ],
      "execution_count": 6,
      "outputs": [
        {
          "output_type": "execute_result",
          "data": {
            "text/plain": [
              "(396634, 6)"
            ]
          },
          "metadata": {
            "tags": []
          },
          "execution_count": 6
        }
      ]
    },
    {
      "cell_type": "code",
      "metadata": {
        "id": "ReSD2QOH9ztb",
        "colab_type": "code",
        "colab": {}
      },
      "source": [
        "from sklearn.cluster import MeanShift"
      ],
      "execution_count": 0,
      "outputs": []
    },
    {
      "cell_type": "code",
      "metadata": {
        "id": "WEqoxvfc_-EG",
        "colab_type": "code",
        "colab": {}
      },
      "source": [
        "data = data.iloc[0:100000]"
      ],
      "execution_count": 0,
      "outputs": []
    },
    {
      "cell_type": "code",
      "metadata": {
        "id": "h9Zbrk2Y-K1A",
        "colab_type": "code",
        "colab": {}
      },
      "source": [
        "model = MeanShift(bandwidth=0.1, n_jobs=-1)\n",
        "\n",
        "coordinate_cols = ['latitude', 'longitude']\n",
        "data = data[coordinate_cols]"
      ],
      "execution_count": 0,
      "outputs": []
    },
    {
      "cell_type": "code",
      "metadata": {
        "id": "5Hw5QI1yBEeL",
        "colab_type": "code",
        "colab": {
          "base_uri": "https://localhost:8080/",
          "height": 51
        },
        "outputId": "2055218b-a4d1-4531-fde1-f7ec3eb956e4"
      },
      "source": [
        "%%time\n",
        "data['cluster'] = model.fit_predict(data)"
      ],
      "execution_count": 10,
      "outputs": [
        {
          "output_type": "stream",
          "text": [
            "CPU times: user 36.9 s, sys: 7.1 s, total: 44 s\n",
            "Wall time: 10min 4s\n"
          ],
          "name": "stdout"
        }
      ]
    },
    {
      "cell_type": "code",
      "metadata": {
        "id": "PBhdTQm4BFZA",
        "colab_type": "code",
        "colab": {
          "base_uri": "https://localhost:8080/",
          "height": 419
        },
        "outputId": "5e7c5485-dee7-4740-8390-1fd22535a6a9"
      },
      "source": [
        "data"
      ],
      "execution_count": 11,
      "outputs": [
        {
          "output_type": "execute_result",
          "data": {
            "text/html": [
              "<div>\n",
              "<style scoped>\n",
              "    .dataframe tbody tr th:only-of-type {\n",
              "        vertical-align: middle;\n",
              "    }\n",
              "\n",
              "    .dataframe tbody tr th {\n",
              "        vertical-align: top;\n",
              "    }\n",
              "\n",
              "    .dataframe thead th {\n",
              "        text-align: right;\n",
              "    }\n",
              "</style>\n",
              "<table border=\"1\" class=\"dataframe\">\n",
              "  <thead>\n",
              "    <tr style=\"text-align: right;\">\n",
              "      <th></th>\n",
              "      <th>latitude</th>\n",
              "      <th>longitude</th>\n",
              "      <th>cluster</th>\n",
              "    </tr>\n",
              "  </thead>\n",
              "  <tbody>\n",
              "    <tr>\n",
              "      <th>2</th>\n",
              "      <td>38.895112</td>\n",
              "      <td>-77.036366</td>\n",
              "      <td>5</td>\n",
              "    </tr>\n",
              "    <tr>\n",
              "      <th>4</th>\n",
              "      <td>33.800745</td>\n",
              "      <td>-84.410520</td>\n",
              "      <td>7</td>\n",
              "    </tr>\n",
              "    <tr>\n",
              "      <th>8</th>\n",
              "      <td>45.523452</td>\n",
              "      <td>-122.676207</td>\n",
              "      <td>30</td>\n",
              "    </tr>\n",
              "    <tr>\n",
              "      <th>10</th>\n",
              "      <td>40.764462</td>\n",
              "      <td>-111.904565</td>\n",
              "      <td>65</td>\n",
              "    </tr>\n",
              "    <tr>\n",
              "      <th>11</th>\n",
              "      <td>33.448377</td>\n",
              "      <td>-112.074037</td>\n",
              "      <td>1</td>\n",
              "    </tr>\n",
              "    <tr>\n",
              "      <th>...</th>\n",
              "      <td>...</td>\n",
              "      <td>...</td>\n",
              "      <td>...</td>\n",
              "    </tr>\n",
              "    <tr>\n",
              "      <th>233789</th>\n",
              "      <td>33.575000</td>\n",
              "      <td>-117.725556</td>\n",
              "      <td>50</td>\n",
              "    </tr>\n",
              "    <tr>\n",
              "      <th>233790</th>\n",
              "      <td>37.629349</td>\n",
              "      <td>-122.400087</td>\n",
              "      <td>4</td>\n",
              "    </tr>\n",
              "    <tr>\n",
              "      <th>233794</th>\n",
              "      <td>29.762884</td>\n",
              "      <td>-95.383061</td>\n",
              "      <td>25</td>\n",
              "    </tr>\n",
              "    <tr>\n",
              "      <th>233798</th>\n",
              "      <td>32.802955</td>\n",
              "      <td>-96.769923</td>\n",
              "      <td>19</td>\n",
              "    </tr>\n",
              "    <tr>\n",
              "      <th>233799</th>\n",
              "      <td>37.774929</td>\n",
              "      <td>-122.419415</td>\n",
              "      <td>4</td>\n",
              "    </tr>\n",
              "  </tbody>\n",
              "</table>\n",
              "<p>100000 rows × 3 columns</p>\n",
              "</div>"
            ],
            "text/plain": [
              "         latitude   longitude  cluster\n",
              "2       38.895112  -77.036366        5\n",
              "4       33.800745  -84.410520        7\n",
              "8       45.523452 -122.676207       30\n",
              "10      40.764462 -111.904565       65\n",
              "11      33.448377 -112.074037        1\n",
              "...           ...         ...      ...\n",
              "233789  33.575000 -117.725556       50\n",
              "233790  37.629349 -122.400087        4\n",
              "233794  29.762884  -95.383061       25\n",
              "233798  32.802955  -96.769923       19\n",
              "233799  37.774929 -122.419415        4\n",
              "\n",
              "[100000 rows x 3 columns]"
            ]
          },
          "metadata": {
            "tags": []
          },
          "execution_count": 11
        }
      ]
    },
    {
      "cell_type": "code",
      "metadata": {
        "id": "H3BABGVCCyH-",
        "colab_type": "code",
        "colab": {}
      },
      "source": [
        "# delete clusters with less than 15 occurencies\n",
        "n = 15\n",
        "data = data[data.groupby('cluster')['cluster'].transform('count') >= n]"
      ],
      "execution_count": 0,
      "outputs": []
    },
    {
      "cell_type": "code",
      "metadata": {
        "id": "8keHJ6nxMJj5",
        "colab_type": "code",
        "colab": {
          "base_uri": "https://localhost:8080/",
          "height": 136
        },
        "outputId": "b1c1ca0e-c400-4ac3-edff-3beb0190da7e"
      },
      "source": [
        "offices = np.array([\n",
        "    [33.751277, -118.188740],\n",
        "    [25.867736, -80.324116],\n",
        "    [51.503016, -0.075479],\n",
        "    [52.378894, 4.885084],\n",
        "    [39.366487, 117.036146],\n",
        "    [-33.868457, 151.205134]\n",
        "])\n",
        "\n",
        "centers = model.cluster_centers_\n",
        "centers"
      ],
      "execution_count": 13,
      "outputs": [
        {
          "output_type": "execute_result",
          "data": {
            "text/plain": [
              "array([[  40.7177164 ,  -73.99183542],\n",
              "       [  33.44943805, -112.00213969],\n",
              "       [  33.44638027, -111.90188756],\n",
              "       ...,\n",
              "       [ -37.8229826 ,  145.1811902 ],\n",
              "       [ -41.2924945 ,  174.7732353 ],\n",
              "       [ -45.0311622 ,  168.6626435 ]])"
            ]
          },
          "metadata": {
            "tags": []
          },
          "execution_count": 13
        }
      ]
    },
    {
      "cell_type": "code",
      "metadata": {
        "id": "qE5rqvnHSAko",
        "colab_type": "code",
        "colab": {
          "base_uri": "https://localhost:8080/",
          "height": 221
        },
        "outputId": "b43c6081-4eec-4a02-ebd6-138e47b55d88"
      },
      "source": [
        "distances = np.zeros((offices.shape[0], centers.shape[0]))\n",
        "\n",
        "for i, office in enumerate(offices):\n",
        "    for j, center in enumerate(centers):\n",
        "        distances[i, j] = np.linalg.norm(office - center)\n",
        "distances"
      ],
      "execution_count": 16,
      "outputs": [
        {
          "output_type": "execute_result",
          "data": {
            "text/plain": [
              "array([[ 44.74257092,   6.19395917,   6.29424146, ..., 272.92232369,\n",
              "        302.42071128, 297.47334157],\n",
              "       [ 16.14371999,  32.5726786 ,  32.47447468, ..., 234.32701671,\n",
              "        263.78998313, 258.88426019],\n",
              "       [ 74.69906582, 113.37331719, 113.2748328 , ..., 170.52458466,\n",
              "        197.94716381, 194.40010686],\n",
              "       [ 79.73425538, 118.41008135, 118.31160891, ..., 166.79141452,\n",
              "        194.00080664, 190.55657439],\n",
              "       [191.0327603 , 229.11470442, 229.01456477, ...,  82.16056067,\n",
              "         99.19396543,  98.93562773],\n",
              "       [237.22725876, 271.67953165, 271.58164907, ...,   7.20598166,\n",
              "         24.70974973,  20.72126023]])"
            ]
          },
          "metadata": {
            "tags": []
          },
          "execution_count": 16
        }
      ]
    },
    {
      "cell_type": "code",
      "metadata": {
        "id": "kSQv3BPfVblL",
        "colab_type": "code",
        "colab": {}
      },
      "source": [
        "def smallestN_indices(a, N):\n",
        "    idx = a.ravel().argsort()[:N]\n",
        "    return np.stack(np.unravel_index(idx, a.shape)).T"
      ],
      "execution_count": 0,
      "outputs": []
    },
    {
      "cell_type": "code",
      "metadata": {
        "id": "E_gH-SbsVdjp",
        "colab_type": "code",
        "colab": {
          "base_uri": "https://localhost:8080/",
          "height": 85
        },
        "outputId": "b00d44a4-6f84-4bb4-b910-a538670b3f47"
      },
      "source": [
        "k = 20\n",
        "\n",
        "ixs = smallestN_indices(distances, k)\n",
        "\n",
        "distances[ixs[:,0], ixs[:,1]]"
      ],
      "execution_count": 50,
      "outputs": [
        {
          "output_type": "execute_result",
          "data": {
            "text/plain": [
              "array([0.00783476, 0.00935332, 0.02267407, 0.05005829, 0.07084773,\n",
              "       0.13410903, 0.15410283, 0.16740596, 0.18887596, 0.19222727,\n",
              "       0.19577946, 0.21181054, 0.22223329, 0.24065315, 0.25150209,\n",
              "       0.26892863, 0.27130076, 0.27531986, 0.28971896, 0.29497889])"
            ]
          },
          "metadata": {
            "tags": []
          },
          "execution_count": 50
        }
      ]
    },
    {
      "cell_type": "code",
      "metadata": {
        "id": "zG_qDsgaO9B0",
        "colab_type": "code",
        "colab": {
          "base_uri": "https://localhost:8080/",
          "height": 34
        },
        "outputId": "ab4e66bc-c403-4199-9e20-60e9ff5ed505"
      },
      "source": [
        "centers[420]"
      ],
      "execution_count": 49,
      "outputs": [
        {
          "output_type": "execute_result",
          "data": {
            "text/plain": [
              "array([-33.86063043, 151.20477593])"
            ]
          },
          "metadata": {
            "tags": []
          },
          "execution_count": 49
        }
      ]
    },
    {
      "cell_type": "code",
      "metadata": {
        "id": "8eoyjNRkPlov",
        "colab_type": "code",
        "colab": {}
      },
      "source": [
        ""
      ],
      "execution_count": 0,
      "outputs": []
    }
  ]
}