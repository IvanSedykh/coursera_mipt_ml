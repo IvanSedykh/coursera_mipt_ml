{
 "nbformat": 4,
 "nbformat_minor": 2,
 "metadata": {
  "language_info": {
   "name": "python",
   "codemirror_mode": {
    "name": "ipython",
    "version": 3
   },
   "version": "3.8.1-final"
  },
  "orig_nbformat": 2,
  "file_extension": ".py",
  "mimetype": "text/x-python",
  "name": "python",
  "npconvert_exporter": "python",
  "pygments_lexer": "ipython3",
  "version": 3,
  "kernelspec": {
   "name": "python38164bite8a6b287b6194c8d82a0d7c4f7af531c",
   "display_name": "Python 3.8.1 64-bit"
  }
 },
 "cells": [
  {
   "cell_type": "code",
   "execution_count": 1,
   "metadata": {},
   "outputs": [],
   "source": [
    "import numpy as np \n",
    "import pandas as pd\n",
    "from sklearn import datasets"
   ]
  },
  {
   "cell_type": "code",
   "execution_count": 2,
   "metadata": {},
   "outputs": [],
   "source": [
    "digits = datasets.load_digits()"
   ]
  },
  {
   "cell_type": "code",
   "execution_count": 9,
   "metadata": {},
   "outputs": [
    {
     "output_type": "execute_result",
     "data": {
      "text/plain": "array([0, 1, 2, ..., 8, 9, 8])"
     },
     "metadata": {},
     "execution_count": 9
    }
   ],
   "source": [
    "digits.target"
   ]
  },
  {
   "cell_type": "code",
   "execution_count": 23,
   "metadata": {},
   "outputs": [
    {
     "output_type": "stream",
     "name": "stdout",
     "text": "0.8241736304549674\n"
    }
   ],
   "source": [
    "from sklearn import naive_bayes\n",
    "from sklearn.model_selection import cross_val_score\n",
    "\n",
    "\n",
    "model = naive_bayes.BernoulliNB()\n",
    "score = cross_val_score(model, digits.data, digits.target)\n",
    "print(score.mean())"
   ]
  },
  {
   "cell_type": "code",
   "execution_count": 24,
   "metadata": {},
   "outputs": [
    {
     "output_type": "stream",
     "name": "stdout",
     "text": "0.8703497369235531\n"
    }
   ],
   "source": [
    "model = naive_bayes.MultinomialNB()\n",
    "score = cross_val_score(model, digits.data, digits.target)\n",
    "print(score.mean())"
   ]
  },
  {
   "cell_type": "code",
   "execution_count": 25,
   "metadata": {},
   "outputs": [
    {
     "output_type": "stream",
     "name": "stdout",
     "text": "0.8069281956050759\n"
    }
   ],
   "source": [
    "model = naive_bayes.GaussianNB()\n",
    "score = cross_val_score(model, digits.data, digits.target)\n",
    "print(score.mean())"
   ]
  },
  {
   "cell_type": "code",
   "execution_count": 26,
   "metadata": {},
   "outputs": [],
   "source": [
    "cancer = datasets.load_breast_cancer()"
   ]
  },
  {
   "cell_type": "code",
   "execution_count": 28,
   "metadata": {},
   "outputs": [
    {
     "output_type": "stream",
     "name": "stdout",
     "text": "0.6274181027790716\n0.8963204471355379\n0.9385188635305075\n"
    }
   ],
   "source": [
    "model = naive_bayes.BernoulliNB()\n",
    "score = cross_val_score(model, cancer.data, cancer.target)\n",
    "print(score.mean())\n",
    "\n",
    "model = naive_bayes.MultinomialNB()\n",
    "score = cross_val_score(model, cancer.data, cancer.target)\n",
    "print(score.mean())\n",
    "\n",
    "model = naive_bayes.GaussianNB()\n",
    "score = cross_val_score(model, cancer.data, cancer.target)\n",
    "print(score.mean())"
   ]
  },
  {
   "cell_type": "code",
   "execution_count": null,
   "metadata": {},
   "outputs": [],
   "source": []
  }
 ]
}